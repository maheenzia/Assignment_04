{
  "nbformat": 4,
  "nbformat_minor": 0,
  "metadata": {
    "colab": {
      "provenance": [],
      "authorship_tag": "ABX9TyN0ehZttzsNKU78XDodSZEi",
      "include_colab_link": true
    },
    "kernelspec": {
      "name": "python3",
      "display_name": "Python 3"
    },
    "language_info": {
      "name": "python"
    }
  },
  "cells": [
    {
      "cell_type": "markdown",
      "metadata": {
        "id": "view-in-github",
        "colab_type": "text"
      },
      "source": [
        "<a href=\"https://colab.research.google.com/github/maheenzia/Assignment_04/blob/main/01_expressions.ipynb\" target=\"_parent\"><img src=\"https://colab.research.google.com/assets/colab-badge.svg\" alt=\"Open In Colab\"/></a>"
      ]
    },
    {
      "cell_type": "code",
      "execution_count": 17,
      "metadata": {
        "colab": {
          "base_uri": "https://localhost:8080/"
        },
        "id": "p_LZKdcXZJHp",
        "outputId": "b9c7faed-e840-4f87-bba0-04b82ce0a054"
      },
      "outputs": [
        {
          "output_type": "stream",
          "name": "stdout",
          "text": [
            "01_dicesimulator\n",
            "die1 in main() start as 10\n",
            "Total of two dice 8\n",
            "Total of two dice 7\n",
            "die1 in main() is:  10\n"
          ]
        }
      ],
      "source": [
        "import random\n",
        "print(\"01_dicesimulator\")\n",
        "\n",
        "def roll_dice():\n",
        "  die1:int = random.randint(1,6)\n",
        "  die2:int = random.randint(1,6)\n",
        "  total:int = die1 + die2\n",
        "  print(f'Total of two dice {total}')\n",
        "\n",
        "def main():\n",
        "  die1:int = 10\n",
        "  print(\"die1 in main() start as\", die1)\n",
        "  roll_dice()\n",
        "  roll_dice()\n",
        "  roll_dice()\n",
        "  print(\"die1 in main() is: \", die1)\n",
        "\n",
        "if __name__ == \"__main__\":\n",
        "  main()\n",
        "\n",
        "\n"
      ]
    },
    {
      "cell_type": "code",
      "source": [
        "print(\"02_e=mc2\")\n",
        "\n",
        "def energy():\n",
        "  c:float = 299792458\n",
        "  m:float = float(input(\"Kilos of mass: \"))\n",
        "  print (\"e = m*c^2\")\n",
        "  print (\"Mass = \" + str(m) + \"kg\")\n",
        "  print (\"C = \" + str(c) + \"m/s\")\n",
        "  print (\"e = \" + str(m*c**2) + \"jules\")\n",
        "\n",
        "if __name__ == \"__main__\":\n",
        "  energy()"
      ],
      "metadata": {
        "colab": {
          "base_uri": "https://localhost:8080/"
        },
        "id": "O_WJSATQcDzR",
        "outputId": "cd05417e-0be5-4ae4-dae6-c17c4560a3c8"
      },
      "execution_count": 21,
      "outputs": [
        {
          "output_type": "stream",
          "name": "stdout",
          "text": [
            "02_e=mc2\n",
            "Kilos of mass: 20\n",
            "e = m*c^2\n",
            "Mass = 20.0kg\n",
            "C = 299792458m/s\n",
            "e = 1.7975103574736353e+18jules\n"
          ]
        }
      ]
    },
    {
      "cell_type": "code",
      "source": [
        "print(\"03_feet_to_inches\")\n",
        "\n",
        "inch: int = 12\n",
        "\n",
        "def foot():\n",
        "  feet:int = int(input(\"Enter feet and i will convert into inches: \"))\n",
        "  print (f'There are {inch * feet} inches in {feet} feet')\n",
        "\n",
        "if __name__ == \"__main__\":\n",
        "  foot()"
      ],
      "metadata": {
        "colab": {
          "base_uri": "https://localhost:8080/"
        },
        "id": "aCUky9nGibC7",
        "outputId": "3d1eee79-b5a7-4748-c48b-d80e4f3f5e63"
      },
      "execution_count": 22,
      "outputs": [
        {
          "output_type": "stream",
          "name": "stdout",
          "text": [
            "03_feet_to_inches\n",
            "Enter feet and i will convert into inches: 20\n",
            "There are 240 inches in 20 feet\n"
          ]
        }
      ]
    },
    {
      "cell_type": "code",
      "source": [
        "import math\n",
        "print (\"04_pythagoream_theorum\")\n",
        "\n",
        "def triangle():\n",
        "  ab:float = float(input(\"Enter the length of the side ab: \"))\n",
        "  ac:float =float(input(\"Enter the length of the side ac:\"))\n",
        "  bc:float = math.sqrt (ab**2 + ac**2)\n",
        "  print (f'The length of bc (the hypothenuse is: {bc} )')\n",
        "\n",
        "if __name__ == \"__main__\":\n",
        "  triangle()"
      ],
      "metadata": {
        "colab": {
          "base_uri": "https://localhost:8080/"
        },
        "id": "-x_EnZtVkD2T",
        "outputId": "b2230d9f-cd61-4ee6-c6d5-7f62b648fc86"
      },
      "execution_count": 23,
      "outputs": [
        {
          "output_type": "stream",
          "name": "stdout",
          "text": [
            "04_pythagoream_theorum\n",
            "Enter the length of the side ab: 30\n",
            "Enter the length of the side ac:20\n",
            "The length of bc (the hypothenuse is: 36.05551275463989 )\n"
          ]
        }
      ]
    },
    {
      "cell_type": "code",
      "source": [
        "print(\"05_remainder_division\")\n",
        "\n",
        "def remainder():\n",
        "  num1:int = int(input(\"Enter an integer to be divided: \"))\n",
        "  num2:int = int(input(\"Enter an integer to divide by: \"))\n",
        "  quotient:int = num1 // num2\n",
        "  remainder:int = num1 % num2\n",
        "  print (f'{num1} divided by {num2} is {quotient} with remainder {remainder}')\n",
        "\n",
        "if __name__ == \"__main__\":\n",
        "  remainder()\n",
        "\n"
      ],
      "metadata": {
        "colab": {
          "base_uri": "https://localhost:8080/"
        },
        "id": "RR4IBzr_mY8j",
        "outputId": "d4bba434-9728-4958-82db-540299f3fa28"
      },
      "execution_count": 24,
      "outputs": [
        {
          "output_type": "stream",
          "name": "stdout",
          "text": [
            "05_remainder_division\n",
            "Enter an integer to be divided: 10\n",
            "Enter an integer to divide by: 3\n",
            "10 divided by 3 is 3 with remainder 1\n"
          ]
        }
      ]
    },
    {
      "cell_type": "code",
      "source": [
        "import random\n",
        "print(\"06_rolldice\")\n",
        "\n",
        "def dice():\n",
        "  die1:int = random.randint(1,6)\n",
        "  die2:int = random.randint(1,6)\n",
        "  total:int = int(die1 + die2)\n",
        "  print(\"First die: \", + die1)\n",
        "  print(\"second die: \", + die2)\n",
        "  print(f\"Total of two dice: {total} \")\n",
        "\n",
        "if __name__ == \"__main__\":\n",
        "  dice()"
      ],
      "metadata": {
        "colab": {
          "base_uri": "https://localhost:8080/"
        },
        "id": "wp8cz2cFn9Gh",
        "outputId": "322f70b1-9b7e-4b0d-f34e-2dc0a0cc2354"
      },
      "execution_count": 27,
      "outputs": [
        {
          "output_type": "stream",
          "name": "stdout",
          "text": [
            "06_rolldice\n",
            "First die:  4\n",
            "second die:  3\n",
            "Total of two dice: 7 \n"
          ]
        }
      ]
    },
    {
      "cell_type": "code",
      "source": [
        "print(\"06_seconds_in_year\")\n",
        "\n",
        "days_in_year:int = 365\n",
        "hours_in_day:int = 24\n",
        "minutes_in_hour:int = 60\n",
        "seconds_in_minute:int = 60\n",
        "\n",
        "def seconds():\n",
        "  print(f'There are {days_in_year * hours_in_day * minutes_in_hour * seconds_in_minute} seconds in a year!')\n",
        "\n",
        "if __name__ == \"__main__\":\n",
        "  seconds()\n"
      ],
      "metadata": {
        "colab": {
          "base_uri": "https://localhost:8080/"
        },
        "id": "ufjlTCjnqF34",
        "outputId": "ec3aa251-bca8-43d6-8bcc-59d4e8efa251"
      },
      "execution_count": 30,
      "outputs": [
        {
          "output_type": "stream",
          "name": "stdout",
          "text": [
            "06_seconds_in_year\n",
            "There are 31536000 seconds in a year!\n"
          ]
        }
      ]
    },
    {
      "cell_type": "code",
      "source": [
        "print(\"07_tiny_mid_lab\")\n",
        "\n",
        "def  mid_lab():\n",
        "  noun:str = input(\"Enter a noun: \")\n",
        "  verb:str = input(\"Enter a verb: \")\n",
        "  adjective:str = input(\"Enter an adjective: \")\n",
        "  print(f'Do you {verb} your {adjective} {noun}?')\n",
        "\n",
        "if __name__ == \"__main__\":\n",
        "  mid_lab()"
      ],
      "metadata": {
        "colab": {
          "base_uri": "https://localhost:8080/"
        },
        "id": "pTzDhrP1riPd",
        "outputId": "89d6aa6d-ce2c-4b1e-a821-03a692167abb"
      },
      "execution_count": 31,
      "outputs": [
        {
          "output_type": "stream",
          "name": "stdout",
          "text": [
            "07_tiny_mid_lab\n",
            "Enter a noun: minhal\n",
            "Enter a verb: complete\n",
            "Enter an adjective: work\n",
            "Do you complete your work minhal?\n"
          ]
        }
      ]
    }
  ]
}