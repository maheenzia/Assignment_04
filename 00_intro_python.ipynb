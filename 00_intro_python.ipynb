{
  "nbformat": 4,
  "nbformat_minor": 0,
  "metadata": {
    "colab": {
      "provenance": [],
      "authorship_tag": "ABX9TyNDdplQ+4BYhQhrl6/z2nAF",
      "include_colab_link": true
    },
    "kernelspec": {
      "name": "python3",
      "display_name": "Python 3"
    },
    "language_info": {
      "name": "python"
    }
  },
  "cells": [
    {
      "cell_type": "markdown",
      "metadata": {
        "id": "view-in-github",
        "colab_type": "text"
      },
      "source": [
        "<a href=\"https://colab.research.google.com/github/maheenzia/Assignment_04/blob/main/00_intro_python.ipynb\" target=\"_parent\"><img src=\"https://colab.research.google.com/assets/colab-badge.svg\" alt=\"Open In Colab\"/></a>"
      ]
    },
    {
      "cell_type": "code",
      "execution_count": 1,
      "metadata": {
        "id": "gdwYWOUGzz9-",
        "colab": {
          "base_uri": "https://localhost:8080/"
        },
        "outputId": "bbd3f035-5307-4b6d-e2d8-b6b8306ea865"
      },
      "outputs": [
        {
          "output_type": "stream",
          "name": "stdout",
          "text": [
            "01_add_two_numbers\n",
            "Enter your first number: 22\n",
            "Enter your second number: 44\n",
            "The total sum of 22 and 44 is 66\n"
          ]
        }
      ],
      "source": [
        "print (\"01_add_two_numbers\")\n",
        "def add():\n",
        " print(\"This application for add two numbers\")\n",
        "first_number = int (input(\"Enter your first number: \"))\n",
        "second_number = int (input(\"Enter your second number: \"))\n",
        "Total = int (first_number + second_number)\n",
        "print (f'The total sum of {first_number} and {second_number} is {Total}')\n",
        "\n",
        "#if__name__ == '__main__':\n",
        "    #add()\n",
        "\n"
      ]
    },
    {
      "cell_type": "code",
      "source": [
        "print (\"02_agreement_bot\")\n",
        "def bot():\n",
        "  animal = str(input(\"What their favourite animal is??\"))\n",
        "  print(f'my favourite animal is also {animal}')\n",
        "\n",
        "if __name__ == '__main__':\n",
        "    bot()"
      ],
      "metadata": {
        "colab": {
          "base_uri": "https://localhost:8080/"
        },
        "id": "OeoHsdom_cAD",
        "outputId": "4cb04ee5-279c-4442-b894-56a72654e0b3"
      },
      "execution_count": 6,
      "outputs": [
        {
          "output_type": "stream",
          "name": "stdout",
          "text": [
            "02_agreement_bot\n",
            "What their favourite animal is??dog\n",
            "my favourite animal is dog\n"
          ]
        }
      ]
    },
    {
      "cell_type": "code",
      "source": [
        "print(\"03_fahrenheit_to_celsius\")\n",
        "def temp():\n",
        "  print (\"This code for convert fahrenheit to celsius\")\n",
        "  fahrenheit_degree = float(input(\"Enter your fahrenheit degree:\"))\n",
        "  celsius_degree = (fahrenheit_degree - 32) *5/9\n",
        "  print (f'Temperature {fahrenheit_degree} F = {celsius_degree} C')\n",
        "\n",
        "if __name__ == '__main__':\n",
        "    temp()"
      ],
      "metadata": {
        "colab": {
          "base_uri": "https://localhost:8080/"
        },
        "id": "CMiHLMX4ET_C",
        "outputId": "2c96830f-5759-48f0-9f2e-bd76fa22bccf"
      },
      "execution_count": 8,
      "outputs": [
        {
          "output_type": "stream",
          "name": "stdout",
          "text": [
            "03_fahrenheit_to_celsius\n",
            "This code for convert fahrenheit to celsius\n",
            "Enter your fahrenheit degree:22\n",
            "Temperature 22.0 F = -5.555555555555555 C\n"
          ]
        }
      ]
    },
    {
      "cell_type": "code",
      "source": [
        "print(\"04_how_old_are_they\")\n",
        "def add_ages():\n",
        "  print (\"This code for add age\")\n",
        "  anthon:int = 21\n",
        "  beth:int = anthon + 6\n",
        "  chen:int = beth + 20\n",
        "  drew:int = chen + anthon\n",
        "  ethan:int = chen\n",
        "\n",
        "  print (\"Anthon is \", anthon)\n",
        "  print (\"Beth is \", beth)\n",
        "  print (\"Chen is \", chen)\n",
        "  print (\"Drew is \", + drew)\n",
        "  print (\"Ethan is \", + ethan)\n",
        "\n",
        "if __name__ == '__main__':\n",
        "  add_ages()\n",
        "\n"
      ],
      "metadata": {
        "colab": {
          "base_uri": "https://localhost:8080/"
        },
        "id": "SeEEr_C7HmgN",
        "outputId": "c9eb0159-d5b6-43fb-8f59-b4f708ef3a23"
      },
      "execution_count": 16,
      "outputs": [
        {
          "output_type": "stream",
          "name": "stdout",
          "text": [
            "04_how_old_are_they\n",
            "This code for add age\n",
            "Anthon is  21\n",
            "Beth is  27\n",
            "Chen is  47\n",
            "Drew is  68\n",
            "Ethan is  47\n"
          ]
        }
      ]
    },
    {
      "cell_type": "code",
      "source": [
        "print(\"05_triangle_perimeter\")\n",
        "def triangle():\n",
        "  print (\"This code for calculate triangle perimeter\")\n",
        "  side1:float = (float(input(\"Enter your first side:\")))\n",
        "  side2:float = (float(input(\"Enter your second side:\")))\n",
        "  side3:float = (float(input(\"Enter your third side:\")))\n",
        "  total:float = (side1 + side2 + side3)\n",
        "  print (f'The total perimeter of triangle is {total}')\n",
        "\n",
        "if __name__ == '__main__':\n",
        "  triangle()\n"
      ],
      "metadata": {
        "colab": {
          "base_uri": "https://localhost:8080/"
        },
        "id": "a7HPuPnuLt3p",
        "outputId": "a6aad1e2-08f5-4b27-80eb-b38f8d732475"
      },
      "execution_count": 18,
      "outputs": [
        {
          "output_type": "stream",
          "name": "stdout",
          "text": [
            "05_triangle_perimeter\n",
            "This code for calculate triangle perimeter\n",
            "Enter your first side:2\n",
            "Enter your second side:1\n",
            "Enter your third side:3\n",
            "The total perimeter of triangle is 6.0\n"
          ]
        }
      ]
    },
    {
      "cell_type": "code",
      "source": [
        "print(\"06_square_number\")\n",
        "def square():\n",
        "  print(\"This code is about square of given numbers\")\n",
        "  num1:int = int(input(\"Enter any number and i will give you a square value\"))\n",
        "  print (f'The square of {num1} is {num1**2}')\n",
        "\n",
        "if __name__ == '__main__':\n",
        "  square()\n"
      ],
      "metadata": {
        "colab": {
          "base_uri": "https://localhost:8080/"
        },
        "id": "fnkcYwZxOCa_",
        "outputId": "3e05e8c0-e92f-41d9-aeed-ac86ce2daaf0"
      },
      "execution_count": 19,
      "outputs": [
        {
          "output_type": "stream",
          "name": "stdout",
          "text": [
            "06_square_number\n",
            "This code is about square of given numbers\n",
            "Enter any number and i will give you a square value4\n",
            "The square of 4 is 16\n"
          ]
        }
      ]
    }
  ]
}